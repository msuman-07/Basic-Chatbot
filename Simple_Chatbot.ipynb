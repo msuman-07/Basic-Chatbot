{
  "nbformat": 4,
  "nbformat_minor": 0,
  "metadata": {
    "colab": {
      "provenance": [],
      "authorship_tag": "ABX9TyO9oKpqAiQ0DkvQ0vzDKXeK",
      "include_colab_link": true
    },
    "kernelspec": {
      "name": "python3",
      "display_name": "Python 3"
    },
    "language_info": {
      "name": "python"
    }
  },
  "cells": [
    {
      "cell_type": "markdown",
      "metadata": {
        "id": "view-in-github",
        "colab_type": "text"
      },
      "source": [
        "<a href=\"https://colab.research.google.com/github/msuman-07/Basic-Chatbot/blob/main/Simple_Chatbot.ipynb\" target=\"_parent\"><img src=\"https://colab.research.google.com/assets/colab-badge.svg\" alt=\"Open In Colab\"/></a>"
      ]
    },
    {
      "cell_type": "code",
      "execution_count": 1,
      "metadata": {
        "id": "inBzpUE9-5fK"
      },
      "outputs": [],
      "source": [
        "import spacy"
      ]
    },
    {
      "cell_type": "code",
      "source": [
        "# Load the English NLP model\n",
        "nlp = spacy.load(\"en_core_web_sm\")"
      ],
      "metadata": {
        "id": "3dAl3_4f_Sjz"
      },
      "execution_count": 2,
      "outputs": []
    },
    {
      "cell_type": "code",
      "source": [
        "def respond_to_user(user_input):\n",
        "    doc = nlp(user_input)\n",
        "\n",
        "    # Commented out debug output\n",
        "    # for token in doc:\n",
        "    #     print(token.text, token.pos_)\n",
        "\n",
        "    if \"hello\" in user_input.lower() or \"hi\" in user_input.lower():\n",
        "        response = \"Hello there! How can I help you today?\"\n",
        "    elif \"how are you\" in user_input.lower():\n",
        "        response = \"I'm doing well, thank you. How about you?\"\n",
        "    else:\n",
        "        response = \"I'm still learning. Can you rephrase that?\"\n",
        "\n",
        "    return response"
      ],
      "metadata": {
        "id": "8haUFq8H_aBU"
      },
      "execution_count": 5,
      "outputs": []
    },
    {
      "cell_type": "code",
      "source": [
        "# Main chatbot loop\n",
        "while True:\n",
        "    user_input = input(\"You: \")\n",
        "    if user_input.lower() in [\"exit\", \"quit\", \"bye\"]:\n",
        "        print(\"Chatbot: Goodbye!\")\n",
        "        break\n",
        "    response = respond_to_user(user_input)\n",
        "    print(\"Chatbot:\", response)"
      ],
      "metadata": {
        "colab": {
          "base_uri": "https://localhost:8080/"
        },
        "id": "XSpnoBwY_bsw",
        "outputId": "bb8060cc-0827-464e-8f09-6d72d5bc45ae"
      },
      "execution_count": 6,
      "outputs": [
        {
          "output_type": "stream",
          "name": "stdout",
          "text": [
            "You: hi\n",
            "Chatbot: Hello there! How can I help you today?\n",
            "You: hello\n",
            "Chatbot: Hello there! How can I help you today?\n",
            "You: fine\n",
            "Chatbot: I'm still learning. Can you rephrase that?\n",
            "You: bye\n",
            "Chatbot: Goodbye!\n"
          ]
        }
      ]
    }
  ]
}